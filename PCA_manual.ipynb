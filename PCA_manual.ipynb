{
  "nbformat": 4,
  "nbformat_minor": 0,
  "metadata": {
    "colab": {
      "provenance": [],
      "authorship_tag": "ABX9TyPWUmJz9HN7vaFKILS7A9Ez",
      "include_colab_link": true
    },
    "kernelspec": {
      "name": "python3",
      "display_name": "Python 3"
    },
    "language_info": {
      "name": "python"
    }
  },
  "cells": [
    {
      "cell_type": "markdown",
      "metadata": {
        "id": "view-in-github",
        "colab_type": "text"
      },
      "source": [
        "<a href=\"https://colab.research.google.com/github/saghar-trade/Unsupervised-Learning/blob/main/PCA_manual.ipynb\" target=\"_parent\"><img src=\"https://colab.research.google.com/assets/colab-badge.svg\" alt=\"Open In Colab\"/></a>"
      ]
    },
    {
      "cell_type": "code",
      "execution_count": 1,
      "metadata": {
        "id": "WcIGYDlsxDJI"
      },
      "outputs": [],
      "source": [
        "import pandas as pd\n",
        "import numpy as np\n",
        "import matplotlib.pyplot as plt\n",
        "import seaborn as sns\n",
        "import warnings\n",
        "warnings.filterwarnings('ignore')\n",
        "from mpl_toolkits import mplot3d\n",
        "from numpy.linalg import svd\n",
        "from sklearn.decomposition import PCA\n",
        "from sklearn.preprocessing import MinMaxScaler"
      ]
    },
    {
      "cell_type": "code",
      "source": [
        "def Manual_PCA(x,k=2):\n",
        "  \"\"\"a function to perform PCA on\n",
        "  Argument:\n",
        "  x : input data, numpy array of shape (m,n)\n",
        "  k : number of components\n",
        "  Return:\n",
        "  projection of x into a k-dimensional space\n",
        "  \"\"\"\n",
        "  m=x.shape[0]\n",
        "  n=x.shape[1]\n",
        "  x_norm=x-x.mean(axis=0)   #step1:zero center data (remove mean)\n",
        "\n",
        "  sigma=(x_norm.T@x_norm)/m #step2 :compute covariance matrix\n",
        "  U, S,VT= svd(sigma)       #step3: singular value decomposition\n",
        "  x_proj=x_norm@ U[:,:k]   #project data\n",
        "  V=np.transpose(VT)\n",
        "  return x_proj , U,S,V"
      ],
      "metadata": {
        "id": "UDsmvI_9xPyC"
      },
      "execution_count": 2,
      "outputs": []
    },
    {
      "cell_type": "code",
      "source": [
        "x=np.array([[-2,-1,0,1,2],\n",
        "            [2,2,2,2,1],\n",
        "            [1,1,1,0,1],\n",
        "            [5,5,5,2,0],\n",
        "            [1,1,0,2,2],\n",
        "            [0,0,0,3,3],\n",
        "            [0,-1,0,-1,1]])"
      ],
      "metadata": {
        "id": "ff1d9t67xVl7"
      },
      "execution_count": 3,
      "outputs": []
    },
    {
      "cell_type": "code",
      "source": [
        "x_proj,U,S,V=Manual_PCA(x,k=2)\n",
        "print(x_proj)"
      ],
      "metadata": {
        "colab": {
          "base_uri": "https://localhost:8080/"
        },
        "id": "22s9CFy2xa4D",
        "outputId": "c1efbe4b-5d22-4e11-be09-d4f3acfbcf75"
      },
      "execution_count": 4,
      "outputs": [
        {
          "output_type": "stream",
          "name": "stdout",
          "text": [
            "[[ 3.66908224 -0.06787159]\n",
            " [-1.7831874  -0.39600759]\n",
            " [ 0.15270574  1.30091115]\n",
            " [-7.01882138  0.2199571 ]\n",
            " [ 0.5989285  -1.02074083]\n",
            " [ 1.84129648 -2.27776767]\n",
            " [ 2.53999582  2.24151944]]\n"
          ]
        }
      ]
    },
    {
      "cell_type": "code",
      "source": [
        "A=np.array([[90,60,90],\n",
        "            [90,90,30],\n",
        "            [60,60,60],\n",
        "             [60,60,90],\n",
        "            [30,30,30]])"
      ],
      "metadata": {
        "id": "Bb11l4LCxg20"
      },
      "execution_count": 5,
      "outputs": []
    },
    {
      "cell_type": "code",
      "source": [
        "u,s,vt=svd(A.T@A)\n",
        "print('u: ',u)\n",
        "print('s: ',s)\n",
        "print('vt: ', vt)"
      ],
      "metadata": {
        "colab": {
          "base_uri": "https://localhost:8080/"
        },
        "id": "Q5yg1Kbuxmtw",
        "outputId": "e46d44bc-ca24-4dc1-8fb2-18bf6c99e2b9"
      },
      "execution_count": 6,
      "outputs": [
        {
          "output_type": "stream",
          "name": "stdout",
          "text": [
            "u:  [[-0.61877743 -0.31692725 -0.71879873]\n",
            " [-0.55174883 -0.4759884   0.68484179]\n",
            " [-0.55918488  0.820361    0.11966664]]\n",
            "s:  [62266.64275172  3159.11223306   274.24501522]\n",
            "vt:  [[-0.61877743 -0.55174883 -0.55918488]\n",
            " [-0.31692725 -0.4759884   0.820361  ]\n",
            " [-0.71879873  0.68484179  0.11966664]]\n"
          ]
        }
      ]
    },
    {
      "cell_type": "code",
      "source": [
        "np.linalg.eig(A.T@A)"
      ],
      "metadata": {
        "colab": {
          "base_uri": "https://localhost:8080/"
        },
        "id": "yhkDYliYxroi",
        "outputId": "033bf1c7-b363-4350-f0c1-1adc0b89e871"
      },
      "execution_count": 7,
      "outputs": [
        {
          "output_type": "execute_result",
          "data": {
            "text/plain": [
              "EigResult(eigenvalues=array([62266.64275172,   274.24501522,  3159.11223306]), eigenvectors=array([[-0.61877743, -0.71879873, -0.31692725],\n",
              "       [-0.55174883,  0.68484179, -0.4759884 ],\n",
              "       [-0.55918488,  0.11966664,  0.820361  ]]))"
            ]
          },
          "metadata": {},
          "execution_count": 7
        }
      ]
    }
  ]
}